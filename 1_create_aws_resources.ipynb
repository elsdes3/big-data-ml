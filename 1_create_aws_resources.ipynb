{
 "cells": [
  {
   "cell_type": "markdown",
   "id": "eac93db5-af70-4d6b-ac45-c3b863f6ca8a",
   "metadata": {},
   "source": [
    "# Provision AWS Resources to allow Kinesis Firehose to Stream Data to S3 Bucket"
   ]
  },
  {
   "cell_type": "code",
   "execution_count": null,
   "id": "95b093fb-a250-4bde-885d-5072d335bb7d",
   "metadata": {},
   "outputs": [],
   "source": [
    "%load_ext lab_black\n",
    "%load_ext autoreload\n",
    "%autoreload 2"
   ]
  },
  {
   "cell_type": "code",
   "execution_count": null,
   "id": "a5c0fec3-42d3-44f7-b241-de7e1458795b",
   "metadata": {},
   "outputs": [],
   "source": [
    "import json\n",
    "import os\n",
    "from glob import glob\n",
    "\n",
    "import boto3\n",
    "from dotenv import find_dotenv, load_dotenv"
   ]
  },
  {
   "cell_type": "code",
   "execution_count": null,
   "id": "3039b307-b6b7-4ebe-a48d-e9e02b17c3b6",
   "metadata": {},
   "outputs": [],
   "source": [
    "%aimport src.s3.buckets\n",
    "import src.s3.buckets as s3b\n",
    "\n",
    "%aimport src.cw.cloudwatch_logs\n",
    "import src.cw.cloudwatch_logs as cwlogs\n",
    "\n",
    "%aimport src.iam.iam_roles\n",
    "import src.iam.iam_roles as iamr\n",
    "\n",
    "%aimport src.firehose.kinesis_firehose\n",
    "import src.firehose.kinesis_firehose as knsfire\n",
    "\n",
    "%aimport src.ec2.ec2_instances_sec_groups\n",
    "import src.ec2.ec2_instances_sec_groups as ec2h\n",
    "\n",
    "%aimport src.keypairs.ssh_keypairs\n",
    "import src.keypairs.ssh_keypairs as ssh_keys"
   ]
  },
  {
   "cell_type": "code",
   "execution_count": null,
   "id": "7393dc0a-6058-4554-8257-64537279bbd2",
   "metadata": {},
   "outputs": [],
   "source": [
    "load_dotenv(find_dotenv())"
   ]
  },
  {
   "cell_type": "code",
   "execution_count": null,
   "id": "6eb61385-6e3f-4f97-98df-caf4cd71f8a2",
   "metadata": {},
   "outputs": [],
   "source": [
    "aws_region = os.getenv(\"AWS_REGION\")"
   ]
  },
  {
   "cell_type": "markdown",
   "id": "ff4d3de8-3eed-4097-a0d7-d368148c27bb",
   "metadata": {},
   "source": [
    "## About"
   ]
  },
  {
   "cell_type": "markdown",
   "id": "b2ffa21b-24a5-4536-b981-ca6be2892d2f",
   "metadata": {},
   "source": [
    "In this notebook, the following AWS resources will be provisioned\n",
    "- S3 bucket\n",
    "- CloudWatch Logging group\n",
    "- CloudWatch Logging stream\n",
    "- IAM role\n",
    "- Kinesis Firehose Delivery Stream\n",
    "\n",
    "### Pre-Requisites\n",
    "1. The following environment variables should be set with the user's AWS credendials ([1](https://docs.aws.amazon.com/sdk-for-php/v3/developer-guide/guide_credentials_environment.html), [2](https://docs.aws.amazon.com/sdk-for-php/v3/developer-guide/guide_credentials_profiles.html))\n",
    "   - `AWS_ACCESS_KEY_ID`\n",
    "   - `AWS_SECRET_KEY`\n",
    "   - `AWS_REGION`\n",
    "\n",
    "   These credentials must be associated to a user group whose users have been granted programmatic access to AWS resources. In order to configure this for an IAM user group, see the documentation [here](https://docs.aws.amazon.com/IAM/latest/UserGuide/id_users_create.html#id_users_create_console).\n",
    "\n",
    "### Notes\n",
    "1. All resources will be created in the same AWS region (specified by the environment variable `AWS_REGION`)."
   ]
  },
  {
   "cell_type": "markdown",
   "id": "22d16793-4c77-4dee-bbca-df5ab656ee41",
   "metadata": {},
   "source": [
    "## User Inputs"
   ]
  },
  {
   "cell_type": "code",
   "execution_count": null,
   "id": "8f1a15e8-0671-4a4d-ab1b-3c6a7adf639f",
   "metadata": {
    "tags": [
     "parameters"
    ]
   },
   "outputs": [],
   "source": [
    "# S3\n",
    "s3_bucket_name = \"testwillz3s\"\n",
    "\n",
    "# IAM Role\n",
    "iam_role_path = \"/\"\n",
    "iam_role_name = \"ec2-dummy-role\"\n",
    "iam_role_description = \"BOTO3 ec2 dummy role\"\n",
    "iam_role_trust_policy = {\n",
    "    \"Version\": \"2012-10-17\",\n",
    "    \"Statement\": [\n",
    "        {\n",
    "            \"Sid\": \"\",\n",
    "            \"Effect\": \"Allow\",\n",
    "            \"Principal\": {\"Service\": \"firehose.amazonaws.com\"},\n",
    "            \"Action\": \"sts:AssumeRole\",\n",
    "        }\n",
    "    ],\n",
    "}\n",
    "\n",
    "# Kinesis Firehose Stream\n",
    "stream_s3_destination_prefix = \"datasets/twitter/kinesis-demo/YYYY/MM/dd/HH\"\n",
    "firehose_stream_name = \"twitter_delivery_stream\"\n",
    "\n",
    "# CloudWatch Logging\n",
    "cw_logs_group_name = f\"kinesisfirehose_{firehose_stream_name}\"\n",
    "\n",
    "# EC2 Security Groups\n",
    "sg_group_tags = [{\"Key\": \"Name\", \"Value\": \"allow-inbound-ssh\"}]\n",
    "\n",
    "# SSH Key Pairs\n",
    "key_fname = \"aws_ec2_key\"\n",
    "keypair_name = \"ec2-key-pair\"\n",
    "\n",
    "# EC2 Instances\n",
    "ec2_instance_image_id = \"ami-0cc00ed857256d2b4\"\n",
    "ec2_instance_type = \"t2.micro\"\n",
    "ec2_instance_tags_list = [{\"Key\": \"Name\", \"Value\": \"my-ec2-instance\"}]"
   ]
  },
  {
   "cell_type": "markdown",
   "id": "a65fd66b-40a0-49df-9e62-214cd9701f31",
   "metadata": {},
   "source": [
    "## Create the S3 Bucket"
   ]
  },
  {
   "cell_type": "code",
   "execution_count": null,
   "id": "b0710b44-2dda-4faf-8ac8-fde3d2d68186",
   "metadata": {},
   "outputs": [],
   "source": [
    "%%time\n",
    "s3_bucket_creation_response = s3b.create_s3_bucket(s3_bucket_name, aws_region)\n",
    "s3_bucket_creation_response"
   ]
  },
  {
   "cell_type": "markdown",
   "id": "607e09bd-ab88-4f5d-bb45-99519f8d23c3",
   "metadata": {},
   "source": [
    "## Create CloudWatch Log Group and Stream"
   ]
  },
  {
   "cell_type": "code",
   "execution_count": null,
   "id": "bfc2bf9d-0e70-4283-bc60-6615a082604f",
   "metadata": {
    "tags": []
   },
   "outputs": [],
   "source": [
    "%%time\n",
    "cw_log_creation_response, cw_stream_creation_response = cwlogs.create_cw_logs_group_stream(\n",
    "    cw_logs_group_name, firehose_stream_name, aws_region\n",
    ")\n",
    "cw_log_creation_response"
   ]
  },
  {
   "cell_type": "code",
   "execution_count": null,
   "id": "4d08b4c1-2a1d-4ac2-8f69-8f6b6f441c54",
   "metadata": {},
   "outputs": [],
   "source": [
    "cw_stream_creation_response"
   ]
  },
  {
   "cell_type": "markdown",
   "id": "a8da958f-cfd6-4d45-a03c-7bc3fb59a392",
   "metadata": {},
   "source": [
    "## Create IAM Role"
   ]
  },
  {
   "cell_type": "code",
   "execution_count": null,
   "id": "729408d2-b5e2-4c04-9f4c-8a475c4873a4",
   "metadata": {},
   "outputs": [],
   "source": [
    "%%time\n",
    "iam_role_creation_response = iamr.create_iam_role(\n",
    "    iam_role_path,\n",
    "    iam_role_name,\n",
    "    iam_role_description,\n",
    "    iam_role_trust_policy,\n",
    "    aws_region,\n",
    ")\n",
    "iam_role_creation_response"
   ]
  },
  {
   "cell_type": "markdown",
   "id": "4c164ca1-5982-402f-b506-062f46db98ec",
   "metadata": {},
   "source": [
    "## Create the Kinesis Firehose Delivery Stream"
   ]
  },
  {
   "cell_type": "code",
   "execution_count": null,
   "id": "484e1e46-39ec-4583-9b8c-333ecee6ade7",
   "metadata": {},
   "outputs": [],
   "source": [
    "%%time\n",
    "kinesis_firehose_stream_creation_response = knsfire.create_kinesis_firehose_stream(\n",
    "    firehose_stream_name,\n",
    "    iam_role_creation_response['Role'][\"Arn\"],\n",
    "    s3_bucket_name,\n",
    "    stream_s3_destination_prefix,\n",
    "    cw_logs_group_name,\n",
    "    iam_role_name,\n",
    "    iam_role_path,\n",
    "    aws_region,\n",
    ")\n",
    "kinesis_firehose_stream_creation_response"
   ]
  },
  {
   "cell_type": "code",
   "execution_count": null,
   "id": "ef2ddff3-dc3c-4f42-96a6-5d5934c37f1e",
   "metadata": {},
   "outputs": [],
   "source": [
    "knsfire.describe_kinesis_firehose_stream(firehose_stream_name, aws_region)"
   ]
  },
  {
   "cell_type": "markdown",
   "id": "da3ee512-8d16-48d8-97eb-e110a7dd4999",
   "metadata": {},
   "source": [
    "## EC2"
   ]
  },
  {
   "cell_type": "markdown",
   "id": "e42acf79-49ee-4422-adf6-2c39b319e728",
   "metadata": {},
   "source": [
    "### Create EC2 Security Group to Allow SSH Traffic on Port 22"
   ]
  },
  {
   "cell_type": "code",
   "execution_count": null,
   "id": "d54d6a19-2c1f-44fb-be6d-722cdb9656d1",
   "metadata": {},
   "outputs": [],
   "source": [
    "%%time\n",
    "ec2h.create_security_group(\n",
    "    \"allow-inbound-ssh\",\n",
    "    \"Allow inbound SSH traffic\",\n",
    "    aws_region,\n",
    "    sg_group_tags,\n",
    ")"
   ]
  },
  {
   "cell_type": "markdown",
   "id": "8bdd636d-32d9-40d9-8b3f-72e2fa0bfa18",
   "metadata": {},
   "source": [
    "### Create SSH Key Pair"
   ]
  },
  {
   "cell_type": "markdown",
   "id": "da6caf9c-ca60-4118-8b64-63a8d982725c",
   "metadata": {},
   "source": [
    "Create a local SSH Key Pair file"
   ]
  },
  {
   "cell_type": "code",
   "execution_count": null,
   "id": "eb31bb8d-148b-4555-ae44-2f7058925110",
   "metadata": {},
   "outputs": [],
   "source": [
    "ssh_key_creation_response = ssh_keys.create_key_pair(\n",
    "    keypair_name,\n",
    "    aws_region,\n",
    "    \"/tmp\",\n",
    "    key_fname,\n",
    "    [{\"Key\": \"Name\", \"Value\": \"my-ssh-key-pair\"}],\n",
    ")\n",
    "ssh_key_creation_response"
   ]
  },
  {
   "cell_type": "markdown",
   "id": "a2f1c18d-8985-4135-9e82-fbe46f2a5dfa",
   "metadata": {},
   "source": [
    "Show the created keypair file"
   ]
  },
  {
   "cell_type": "code",
   "execution_count": null,
   "id": "715f74ea-9b6c-4efb-bfe4-d5ad89b7780c",
   "metadata": {},
   "outputs": [],
   "source": [
    "glob(f\"/tmp/{key_fname}*.pem\")"
   ]
  },
  {
   "cell_type": "markdown",
   "id": "802f575a-4b25-482d-a8c1-c39a93321645",
   "metadata": {},
   "source": [
    "### Create EC2 Instance"
   ]
  },
  {
   "cell_type": "code",
   "execution_count": null,
   "id": "06add3c8-7556-4663-ade7-4a4fde473717",
   "metadata": {},
   "outputs": [],
   "source": [
    "%%time\n",
    "created_instance_response = ec2h.create_instance(\n",
    "    image_id=ec2_instance_image_id,\n",
    "    instance_type=ec2_instance_type,\n",
    "    keypair_name=keypair_name,\n",
    "    region=aws_region,\n",
    "    tags_list=ec2_instance_tags_list,\n",
    ")\n",
    "created_instance_response"
   ]
  },
  {
   "cell_type": "markdown",
   "id": "6554f04c-b156-4b2c-98b2-242a7c612ca4",
   "metadata": {},
   "source": [
    "### Attach EC2 Security Group to EC2 Instance To Grant SSH Access to Instance"
   ]
  },
  {
   "cell_type": "code",
   "execution_count": null,
   "id": "71fa78d1-6604-4332-93a4-3406b71bf7c8",
   "metadata": {},
   "outputs": [],
   "source": [
    "%%time\n",
    "sg_filter = dict(Filters=[{\"Name\": \"tag:Name\", \"Values\": [\"allow-inbound-ssh\"]}])\n",
    "ec2_instance_filter = dict(Filters=[{\"Name\": \"tag:Name\", \"Values\": [\"my-ec2-instance\"]}])\n",
    "ec2h.attach_sg_to_ec2_instance(sg_filter, ec2_instance_filter, 0, 0, aws_region)"
   ]
  }
 ],
 "metadata": {
  "kernelspec": {
   "display_name": "Python 3 (ipykernel)",
   "language": "python",
   "name": "python3"
  },
  "language_info": {
   "codemirror_mode": {
    "name": "ipython",
    "version": 3
   },
   "file_extension": ".py",
   "mimetype": "text/x-python",
   "name": "python",
   "nbconvert_exporter": "python",
   "pygments_lexer": "ipython3",
   "version": "3.9.5"
  }
 },
 "nbformat": 4,
 "nbformat_minor": 5
}
