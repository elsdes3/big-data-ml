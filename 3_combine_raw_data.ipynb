{
 "cells": [
  {
   "cell_type": "markdown",
   "id": "18c3369b-2d62-407a-aecb-0dae05b55185",
   "metadata": {},
   "source": [
    "# Combine raw data files, per hour, into CSVs"
   ]
  },
  {
   "cell_type": "code",
   "execution_count": 1,
   "id": "9a4d174d-44c8-4335-b933-debf69e268da",
   "metadata": {},
   "outputs": [],
   "source": [
    "%load_ext lab_black\n",
    "%load_ext autoreload\n",
    "%autoreload 2"
   ]
  },
  {
   "cell_type": "code",
   "execution_count": 2,
   "id": "f69ce858-3b70-4db0-abf9-a8d3f6176373",
   "metadata": {},
   "outputs": [],
   "source": [
    "import os\n",
    "\n",
    "from dotenv import find_dotenv, load_dotenv"
   ]
  },
  {
   "cell_type": "code",
   "execution_count": 3,
   "id": "3a3b25cf-aab4-49a1-9873-2050a4757457",
   "metadata": {},
   "outputs": [],
   "source": [
    "%aimport src.data.combine_data\n",
    "import src.data.combine_data as cdh"
   ]
  },
  {
   "cell_type": "code",
   "execution_count": 4,
   "id": "d25a283e-c765-4b52-9b36-f0e853dd779c",
   "metadata": {},
   "outputs": [
    {
     "data": {
      "text/plain": [
       "True"
      ]
     },
     "execution_count": 4,
     "metadata": {},
     "output_type": "execute_result"
    }
   ],
   "source": [
    "load_dotenv(find_dotenv())"
   ]
  },
  {
   "cell_type": "markdown",
   "id": "84b64166-af6c-4ed4-a7c7-bf98b075b449",
   "metadata": {},
   "source": [
    "## About"
   ]
  },
  {
   "cell_type": "markdown",
   "id": "9ca3bf3b-e15e-4b73-9b0f-f9913e78cb4e",
   "metadata": {},
   "source": [
    "Here, raw tweets data collected in every hour will be combined into a single CSV file and stored in a sub-folder in the S3 bucket at the path `datasets/twitter/kinesis-demo/csvs`. The formatting of the following datetime columns will be changed to the `yyyy-mm-dd HH:MM::SS` format\n",
    "- `created_at`\n",
    "  - datetime at which the tweet was posted on Twitter platform\n",
    "- `user_joined`\n",
    "  - datetime at which user joined Twitter platform"
   ]
  },
  {
   "cell_type": "markdown",
   "id": "fa91bb84-e558-4742-8dbf-6cc7819ff940",
   "metadata": {},
   "source": [
    "## User Inputs"
   ]
  },
  {
   "cell_type": "code",
   "execution_count": 5,
   "id": "6b182348-1706-47ba-8a26-fd75041cb730",
   "metadata": {
    "tags": [
     "parameters"
    ]
   },
   "outputs": [],
   "source": [
    "# S3\n",
    "s3_bucket_name = \"sagemakertestwillz3s\"\n",
    "path_to_folder = \"/datasets/twitter/kinesis-demo/\"\n",
    "\n",
    "headers = [\n",
    "    \"id\",\n",
    "    \"geo\",\n",
    "    \"coordinates\",\n",
    "    \"place\",\n",
    "    \"contributors\",\n",
    "    \"is_quote_status\",\n",
    "    \"quote_count\",\n",
    "    \"reply_count\",\n",
    "    \"retweet_count\",\n",
    "    \"favorite_count\",\n",
    "    \"favorited\",\n",
    "    \"retweeted\",\n",
    "    \"created_at\",\n",
    "    \"source\",\n",
    "    \"in_reply_to_user_id\",\n",
    "    \"in_reply_to_screen_name\",\n",
    "    \"source_text\",\n",
    "    \"place_id\",\n",
    "    \"place_url\",\n",
    "    \"place_place_type\",\n",
    "    \"place_name\",\n",
    "    \"place_full_name\",\n",
    "    \"place_country_code\",\n",
    "    \"place_country\",\n",
    "    \"place_bounding_box_type\",\n",
    "    \"place_bounding_box_coordinates\",\n",
    "    \"place_attributes\",\n",
    "    \"coords_type\",\n",
    "    \"coords_lon\",\n",
    "    \"coords_lat\",\n",
    "    \"geo_type\",\n",
    "    \"geo_lon\",\n",
    "    \"geo_lat\",\n",
    "    \"user_name\",\n",
    "    \"user_screen_name\",\n",
    "    \"user_followers\",\n",
    "    \"user_friends\",\n",
    "    \"user_listed\",\n",
    "    \"user_favourites\",\n",
    "    \"user_statuses\",\n",
    "    \"user_protected\",\n",
    "    \"user_verified\",\n",
    "    \"user_contributors_enabled\",\n",
    "    \"user_joined\",\n",
    "    \"user_location\",\n",
    "    \"text\",\n",
    "]"
   ]
  },
  {
   "cell_type": "code",
   "execution_count": 6,
   "id": "f23c3213-308f-4fe1-8fc2-27b736dc6992",
   "metadata": {},
   "outputs": [],
   "source": [
    "aws_region = os.getenv(\"AWS_REGION\")"
   ]
  },
  {
   "cell_type": "markdown",
   "id": "a2d5a9d9-a75d-4b3f-80f9-92ce7cac72e5",
   "metadata": {},
   "source": [
    "## Combine raw data into CSV files"
   ]
  },
  {
   "cell_type": "markdown",
   "id": "b8ba7cfe-01e8-48db-b218-aa91f255f3cd",
   "metadata": {},
   "source": [
    "### Create `csvs/` S3 sub-folder in `<bucket-name>/datasets/twitter`"
   ]
  },
  {
   "cell_type": "code",
   "execution_count": 8,
   "id": "48f78f5a-c399-446d-a614-0b5c3e1918ae",
   "metadata": {},
   "outputs": [
    {
     "name": "stdout",
     "output_type": "stream",
     "text": [
      "Found existing folder csvs in sagemakertestwillz3s. Did nothing.\n"
     ]
    }
   ],
   "source": [
    "cdh.create_folder_in_s3_bucket(aws_region, s3_bucket_name, \"csvs\")"
   ]
  },
  {
   "cell_type": "markdown",
   "id": "33697949-85e5-4b01-8cee-4a29360f035b",
   "metadata": {},
   "source": [
    "### Combine files into single CSV file in `csvs/`"
   ]
  },
  {
   "cell_type": "markdown",
   "id": "8693b631-c283-4143-91ff-adf4f4db0022",
   "metadata": {},
   "source": [
    "Get list of all CSV files in `csvs/`"
   ]
  },
  {
   "cell_type": "code",
   "execution_count": 10,
   "id": "f9b2b5a3-a3cb-4cf8-a497-8d181db1ab3b",
   "metadata": {},
   "outputs": [
    {
     "data": {
      "text/plain": [
       "['datasets/twitter/kinesis-demo/csvs/tweets_14_hc2021122702_s20211227195459.csv',\n",
       " 'datasets/twitter/kinesis-demo/csvs/tweets_4_hc2021122703_s20211227195504.csv',\n",
       " 'datasets/twitter/kinesis-demo/csvs/tweets_metadata_14_hc2021122702_s20211227195459.csv',\n",
       " 'datasets/twitter/kinesis-demo/csvs/tweets_metadata_4_hc2021122703_s20211227195504.csv']"
      ]
     },
     "execution_count": 10,
     "metadata": {},
     "output_type": "execute_result"
    }
   ],
   "source": [
    "existing_csv_files_list = cdh.get_existing_csv_files_list(\n",
    "    s3_bucket_name, aws_region, path_to_folder[1:] + \"csvs/tweets_\"\n",
    ")\n",
    "existing_csv_files_list"
   ]
  },
  {
   "cell_type": "markdown",
   "id": "c0b592e3-7ab3-4f7f-a4cf-1bf3b059edae",
   "metadata": {},
   "source": [
    "Combine raw data files, per hour, into single CSV file"
   ]
  },
  {
   "cell_type": "code",
   "execution_count": 12,
   "id": "ac6fa837-cab9-42f2-a3f1-64a05d25cedf",
   "metadata": {},
   "outputs": [
    {
     "name": "stdout",
     "output_type": "stream",
     "text": [
      "Found CSV file in datasets/twitter/kinesis-demo/csvs/tweets_14_hc2021122702_s20211227195459.csv. Did nothing.\n",
      "Found CSV file in datasets/twitter/kinesis-demo/csvs/tweets_4_hc2021122703_s20211227195504.csv. Did nothing.\n",
      "CPU times: user 208 ms, sys: 5.43 ms, total: 214 ms\n",
      "Wall time: 1.07 s\n"
     ]
    }
   ],
   "source": [
    "%%time\n",
    "dfs_all, dfs_metadata_all = [[], []]\n",
    "# Loop over <bucket-name>/datasets/twitter/kinesis-demo\n",
    "for content in cdh.get_objects_in_one_s3_level(\n",
    "    s3_bucket_name, path_to_folder[1:], aws_region\n",
    ").get(\"CommonPrefixes\"):\n",
    "    # Check if <bucket-name>/datasets/twitter/kinesis-demo/<year> exists\n",
    "    if \"csvs\" not in cdh.get_objects_in_one_s3_level(\n",
    "        s3_bucket_name, content, aws_region\n",
    "    ).get(\"Prefix\"):\n",
    "        # Loop over <bucket-name>/datasets/twitter/kinesis-demo/<year>\n",
    "        for content_year in cdh.get_objects_in_one_s3_level(\n",
    "            s3_bucket_name, content, aws_region\n",
    "        ).get(\"CommonPrefixes\"):\n",
    "            # Loop over <bucket-name>/datasets/twitter/kinesis-demo/<year>/<month>\n",
    "            for content_month in cdh.get_objects_in_one_s3_level(\n",
    "                s3_bucket_name, content_year, aws_region\n",
    "            ).get(\"CommonPrefixes\"):\n",
    "                # Loop over <bucket-name>/datasets/twitter/kinesis-demo/<year>/<month>/<day>\n",
    "                for content_day in cdh.get_objects_in_one_s3_level(\n",
    "                    s3_bucket_name, content_month, aws_region\n",
    "                ).get(\"CommonPrefixes\"):\n",
    "                    # Save tweets data and file metadata to\n",
    "                    # <bucket-name>/datasets/twitter/kinesis-demo/csvs/tweets_*.csv and\n",
    "                    # csvs/tweets_metadata_*.csv\n",
    "                    cdh.save_data_and_metadata_to_s3_csv(\n",
    "                        content_day.get(\"Prefix\"),\n",
    "                        existing_csv_files_list,\n",
    "                        s3_bucket_name,\n",
    "                        headers,\n",
    "                        content_day,\n",
    "                        path_to_folder[1:],\n",
    "                        aws_region,\n",
    "                    )"
   ]
  }
 ],
 "metadata": {
  "kernelspec": {
   "display_name": "Python 3 (ipykernel)",
   "language": "python",
   "name": "python3"
  },
  "language_info": {
   "codemirror_mode": {
    "name": "ipython",
    "version": 3
   },
   "file_extension": ".py",
   "mimetype": "text/x-python",
   "name": "python",
   "nbconvert_exporter": "python",
   "pygments_lexer": "ipython3",
   "version": "3.9.7"
  }
 },
 "nbformat": 4,
 "nbformat_minor": 5
}
