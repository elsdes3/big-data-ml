{
 "cells": [
  {
   "cell_type": "markdown",
   "id": "3fd4cc00-25ac-4bf7-b7c7-7a70114963a7",
   "metadata": {},
   "source": [
    "# Create SageMaker Resources"
   ]
  },
  {
   "cell_type": "code",
   "execution_count": null,
   "id": "f1ea0847-7f09-4f4d-a79d-f34d8d79c774",
   "metadata": {},
   "outputs": [],
   "source": [
    "%load_ext lab_black\n",
    "%load_ext autoreload\n",
    "%autoreload 2"
   ]
  },
  {
   "cell_type": "code",
   "execution_count": null,
   "id": "c53c6322-1d94-4366-9934-1dbe41db6c7a",
   "metadata": {},
   "outputs": [],
   "source": [
    "import base64\n",
    "import os\n",
    "from typing import Dict, List\n",
    "\n",
    "import boto3\n",
    "from dotenv import find_dotenv, load_dotenv"
   ]
  },
  {
   "cell_type": "code",
   "execution_count": null,
   "id": "8e1a8fbf-b8fa-4fb0-b7a2-6f5986a40fb7",
   "metadata": {},
   "outputs": [],
   "source": [
    "%aimport src.s3.buckets\n",
    "import src.s3.buckets as s3b\n",
    "\n",
    "%aimport src.iam.iam_roles\n",
    "import src.iam.iam_roles as iamr\n",
    "\n",
    "%aimport src.ec2.ec2_instances_sec_groups\n",
    "import src.ec2.ec2_instances_sec_groups as ec2h"
   ]
  },
  {
   "cell_type": "code",
   "execution_count": null,
   "id": "0011e922-0926-43ce-8566-6d2438059035",
   "metadata": {},
   "outputs": [],
   "source": [
    "load_dotenv(find_dotenv())"
   ]
  },
  {
   "cell_type": "code",
   "execution_count": null,
   "id": "e159d102-0d2b-4066-826d-d6077a411841",
   "metadata": {},
   "outputs": [],
   "source": [
    "aws_region = os.getenv(\"AWS_REGION\")"
   ]
  },
  {
   "cell_type": "markdown",
   "id": "21769651-32fd-432c-b9e2-22eb1c7de4a2",
   "metadata": {},
   "source": [
    "## About"
   ]
  },
  {
   "cell_type": "markdown",
   "id": "682ee00a-6022-4ef8-96da-ede29a152f5d",
   "metadata": {
    "jp-MarkdownHeadingCollapsed": true,
    "tags": []
   },
   "source": [
    "In this notebook, the following resources related to AWS SageMaker will be created\n",
    "- S3 bucket\n",
    "- EC2 Security group for the SageMaker instance\n",
    "- CloudWatch Logging group for the SageMaker instance\n",
    "- SageMaker notebook lifecycle configuration\n",
    "- SageMaker notebook instance\n",
    "\n",
    "### Pre-Requisites\n",
    "1. As mentioned in `README.md`, the following environment variables should be set with the user's AWS credendials ([1](https://docs.aws.amazon.com/sdk-for-php/v3/developer-guide/guide_credentials_environment.html), [2](https://docs.aws.amazon.com/sdk-for-php/v3/developer-guide/guide_credentials_profiles.html))\n",
    "   - `AWS_ACCESS_KEY_ID`\n",
    "   - `AWS_SECRET_KEY`\n",
    "   - `AWS_REGION`\n",
    "\n",
    "   These credentials must be associated to a user group whose users have been granted programmatic access to AWS resources. In order to configure this for an IAM user group, see the documentation [here](https://docs.aws.amazon.com/IAM/latest/UserGuide/id_users_create.html#id_users_create_console).\n",
    "\n",
    "### Notes\n",
    "1. All resources must exist in the same AWS region (specified by the environment variable `AWS_REGION`)."
   ]
  },
  {
   "cell_type": "markdown",
   "id": "38155e39-7177-415a-8f4b-42b7d6b57f85",
   "metadata": {},
   "source": [
    "## User Inputs"
   ]
  },
  {
   "cell_type": "code",
   "execution_count": null,
   "id": "31c8b84f-5b35-4c49-b6c5-135556a35b8c",
   "metadata": {},
   "outputs": [],
   "source": [
    "# S3\n",
    "s3_bucket_name = \"sagemakerdemoedesz4321\"\n",
    "\n",
    "# IAM Role\n",
    "iam_role_name = \"AmazonSageMaker-ExecutionRole-20211222T235985\"\n",
    "# iam_role_path = \"/\"\n",
    "# iam_role_description = \"Sagemaker S3 permissions role\"\n",
    "# iam_role_trust_policy = ...\n",
    "\n",
    "# EC2 Security Groups\n",
    "sg_group_tags = [{\"Key\": \"Name\", \"Value\": sg_group_name}]\n",
    "sg_group_name = \"mysgname\"\n",
    "sg_group_desc = \"My security group\"\n",
    "\n",
    "# Sagemaker Lifecycle\n",
    "nb_lifecycle_name = \"mynbconfig\"\n",
    "nb_instance_name = \"mydemo\"\n",
    "nb_instance_type = \"ml.t3.xlarge\"\n",
    "nb_instance_tags = [{\"Key\": \"Name\", \"Value\": nb_instance_name}]\n",
    "\n",
    "# Cloud Watch\n",
    "cw_log_group_name = \"/aws/sagemaker/NotebookInstances\""
   ]
  },
  {
   "cell_type": "markdown",
   "id": "08ee8b46-b68c-4577-bc32-7efe320811a3",
   "metadata": {},
   "source": [
    "Details about AWS EC2 instance types are available [here](https://aws.amazon.com/ec2/instance-types/)."
   ]
  },
  {
   "cell_type": "markdown",
   "id": "4c7c8d20-ce81-4a05-90d5-eba37c39ac95",
   "metadata": {},
   "source": [
    "## Create the S3 Bucket"
   ]
  },
  {
   "cell_type": "code",
   "execution_count": null,
   "id": "30f6bb62-01bd-45fc-8b50-2d52a367915c",
   "metadata": {},
   "outputs": [],
   "source": [
    "%%time\n",
    "s3_bucket_creation_response = s3b.create_s3_bucket(s3_bucket_name, aws_region)\n",
    "s3_bucket_creation_response"
   ]
  },
  {
   "cell_type": "markdown",
   "id": "35697da7-517f-451a-8385-8863dc6aefd4",
   "metadata": {},
   "source": [
    "## IAM Role for Sagemaker to Access S3"
   ]
  },
  {
   "cell_type": "markdown",
   "id": "d52bd704-6da8-4dc6-a967-db5fd08bda4e",
   "metadata": {},
   "source": [
    "Currently, an IAM role granting Sagemaker appropriate S3 access must be created from the AWS console.\n",
    "\n",
    "To do this, [start](https://docs.aws.amazon.com/sagemaker/latest/dg/howitworks-create-ws.html) the process of creating of a Sagemaker instance through the console and an IAM role should be created manually following instructions [here](https://docs.aws.amazon.com/glue/latest/dg/create-an-iam-role-sagemaker-notebook.html). After the IAM role is created, the Sagemaker instance creation process can be canceled as the instance will be programmatically created later in this notebook."
   ]
  },
  {
   "cell_type": "code",
   "execution_count": null,
   "id": "d784af08-0fe4-4e35-b1a2-1c0d6cad2a97",
   "metadata": {},
   "outputs": [],
   "source": [
    "iam_client = boto3.client(\"iam\", region_name=aws_region)\n",
    "role_response = iam_client.get_role(RoleName=iam_role_name)\n",
    "role_response"
   ]
  },
  {
   "cell_type": "markdown",
   "id": "42687105-aaa1-4f1e-a59a-6531aef91e8b",
   "metadata": {},
   "source": [
    "Future work should focus on programmatically (using `boto3`, [1](https://boto3.amazonaws.com/v1/documentation/api/latest/reference/services/iam.html#IAM.Client.create_role)) creating such a role, using the IAM policy found in the **Add Additional Amazon S3 Permissions to a SageMaker Execution Role** section from [here](https://docs.aws.amazon.com/sagemaker/latest/dg/sagemaker-roles.html#sagemaker-roles-create-execution-role)."
   ]
  },
  {
   "cell_type": "markdown",
   "id": "4223f469-ec12-4432-ad18-7acac188df29",
   "metadata": {},
   "source": [
    "## Create EC2 Security Group"
   ]
  },
  {
   "cell_type": "markdown",
   "id": "5658c2cd-6c0e-48b9-bcc8-af5a6c61ca0a",
   "metadata": {},
   "source": [
    "Get the subnet ID"
   ]
  },
  {
   "cell_type": "code",
   "execution_count": null,
   "id": "caa48c16-5941-43fc-89c4-2c167a0e545d",
   "metadata": {},
   "outputs": [],
   "source": [
    "def get_subnet_ids(aws_region: str, filters: Dict) -> List[str]:\n",
    "    client = boto3.client(\"ec2\", region_name=aws_region)\n",
    "    subnet_list = client.describe_subnets(**filters)\n",
    "    subnet_ids = [\n",
    "        {\n",
    "            \"id\": sn[\"SubnetId\"],\n",
    "            \"availability_zone\": sn['AvailabilityZone'],\n",
    "            \"state\": sn[\"State\"],\n",
    "        }\n",
    "        for sn in subnet_list[\"Subnets\"]\n",
    "    ]\n",
    "    return subnet_ids"
   ]
  },
  {
   "cell_type": "code",
   "execution_count": null,
   "id": "14279d93-031d-4de1-bd03-15670e98d8e9",
   "metadata": {},
   "outputs": [],
   "source": [
    "%%time\n",
    "vpcs_list = ec2h.list_vpcs(aws_region)\n",
    "vpc_id = vpcs_list[0][\"VpcId\"]\n",
    "subbet_filters = dict(Filters=[{\"Name\":\"vpc-id\", \"Values\":[vpc_id]}])\n",
    "subnet_ids = get_subnet_ids(aws_region: str, filters)"
   ]
  },
  {
   "cell_type": "markdown",
   "id": "b01b69a1-e933-4912-a065-a38bd2cd8b72",
   "metadata": {},
   "source": [
    "Create the security group"
   ]
  },
  {
   "cell_type": "code",
   "execution_count": null,
   "id": "1e5cbfc2-8a9b-474b-a524-2160945c5e21",
   "metadata": {},
   "outputs": [],
   "source": [
    "%%time\n",
    "ec2_resource = boto3.resource(\"ec2\", region_name=aws_region)\n",
    "security_group_creation_response = ec2_resource.create_security_group(\n",
    "    Description=sg_group_desc,\n",
    "    GroupName=sg_group_name,\n",
    "    VpcId=vpc_id,\n",
    "    TagSpecifications=[\n",
    "        {\"ResourceType\": \"security-group\", \"Tags\": sg_group_tags}\n",
    "    ],\n",
    ")\n",
    "security_group_creation_response"
   ]
  },
  {
   "cell_type": "markdown",
   "id": "6fc3c4f0-1337-4d7d-985e-86d752561add",
   "metadata": {},
   "source": [
    "## SageMaker"
   ]
  },
  {
   "cell_type": "markdown",
   "id": "414b7b67-6e17-41b6-86c4-cffdb8713207",
   "metadata": {},
   "source": [
    "### Create Lifecycle Config"
   ]
  },
  {
   "cell_type": "code",
   "execution_count": null,
   "id": "1950d34d-2882-4b96-8994-306ad4395b90",
   "metadata": {},
   "outputs": [],
   "source": [
    "def get_tag(env_vars: List[str], env_var_names: List[str]) -> List[str]:\n",
    "    overall = \"\\n\"\n",
    "    for env_var in env_vars:\n",
    "        export_cmd_str = (\n",
    "            f'echo \"export ${env_var}=$TAG\" >> /etc/profile.d/jupyter-env.sh'\n",
    "        )\n",
    "        a = (\n",
    "            f\"TAG=$(aws sagemaker list-tags --resource-arn $NOTEBOOK_ARN  | \"\n",
    "            f\"\"\"jq -r --arg {env_var} \"${env_var}\" .'Tags[] | select(.Key == ${env_var}).Value'\"\"\"\n",
    "            f\" --raw-output)\\n{export_cmd_str}\\n\\n\"\n",
    "        )\n",
    "        overall += a\n",
    "    # print(overall)\n",
    "\n",
    "    abc = \"# PARAMETERS\\n\"\n",
    "    for envv, envvn in zip(env_vars, env_var_names):\n",
    "        abc += f\"{envv}={envvn}\\n\"\n",
    "    # print(abc)\n",
    "    return [abc.strip(), overall.strip()]\n",
    "\n",
    "\n",
    "def render_lifecycle_config_create_script(\n",
    "    pypackages_list: List[str],\n",
    "    env_vars: List[str],\n",
    ") -> str:\n",
    "    pypackages_str = \" \".join(pypackages_list)\n",
    "    vars_defns, tags_set_str = get_tag(\n",
    "        env_vars, [os.getenv(ev_name) for ev_name in env_var_names]\n",
    "    )\n",
    "    arn_str = (\n",
    "        \"NOTEBOOK_ARN=$(jq '.ResourceArn' /opt/ml/metadata/resource-metadata.json --raw-output)\\n\"\n",
    "        f\"touch /etc/profile.d/jupyter-env.sh\\n\\n{tags_set_str}\\n\\ninitctl restart \"\n",
    "        \"jupyter-server --no-wait\"\n",
    "    )\n",
    "    script = f\"\"\"#!/bin/bash\\n\\nset -e\\n\\n{vars_defns}\\n\\n{arn_str}\n",
    "    \"\"\"\n",
    "    b64_encoded = base64.b64encode(script.encode())\n",
    "    return b64_encoded.decode(\"ascii\")\n",
    "    # return script\n",
    "\n",
    "\n",
    "def create_sagemaker_nb_lifecycle_config(\n",
    "    nb_lifecycle_name: str, aws_region: str, on_create_script: str\n",
    ") -> None:\n",
    "    client = boto3.client(\"sagemaker\", region_name=aws_region)\n",
    "    life_cycle_creation_response = client.create_notebook_instance_lifecycle_config(\n",
    "        NotebookInstanceLifecycleConfigName=nb_lifecycle_name,\n",
    "        OnCreate=[{\"Content\": on_create_script}],\n",
    "    )\n",
    "    return life_cycle_creation_response"
   ]
  },
  {
   "cell_type": "code",
   "execution_count": null,
   "id": "1ee8f086-78f2-41f1-8c58-8b81f496c650",
   "metadata": {},
   "outputs": [],
   "source": [
    "%%time\n",
    "lc_script = render_lifecycle_config_create_script(\n",
    "    pypackages_list=[\"scipy\"],\n",
    "    env_vars=[\"AWS_ACCESS_KEY_ID\", \"AWS_SECRET_ACCESS_KEY\", \"AWS_REGION\"],\n",
    ")\n",
    "# print(type(lc_script))\n",
    "# print(lc_script)\n",
    "life_cycle_creation_response = create_sagemaker_nb_lifecycle_config(\n",
    "    nb_lifecycle_name, aws_region, lc_script\n",
    ")\n",
    "life_cycle_creation_response"
   ]
  },
  {
   "cell_type": "markdown",
   "id": "44cea9b7-bb5c-47e6-8599-92e184f89582",
   "metadata": {},
   "source": [
    "### Create Notebook Instance"
   ]
  },
  {
   "cell_type": "markdown",
   "id": "9170b424-f46f-446b-907e-908a40327da2",
   "metadata": {},
   "source": [
    "Get the security group ID"
   ]
  },
  {
   "cell_type": "code",
   "execution_count": null,
   "id": "aad0f506-eb55-49c6-b86d-79586fe5b881",
   "metadata": {},
   "outputs": [],
   "source": [
    "%%time\n",
    "sg_filter = dict(Filters=[{\"Name\": \"tag:Name\", \"Values\": [sg_group_name]}])\n",
    "security_groups = ec2_resource.security_groups.filter(**sg_filter)\n",
    "sg_group_list = [security_group.id for security_group in security_groups]"
   ]
  },
  {
   "cell_type": "markdown",
   "id": "d4d0b62b-c412-4c7b-8d06-c69bd82a2b24",
   "metadata": {},
   "source": [
    "Create the sagemaker notebook instance"
   ]
  },
  {
   "cell_type": "code",
   "execution_count": null,
   "id": "ac2f0c62-a1d0-4a28-90dd-3b3828962331",
   "metadata": {},
   "outputs": [],
   "source": [
    "def create_sagemaker_nb_instance(\n",
    "    nb_instance_name: str,\n",
    "    nb_instance_type: str,\n",
    "    sg_group_id: str,\n",
    "    subnet_id: str,\n",
    "    nb_lifecycle_name: str,\n",
    "    iam_role_arn: str,\n",
    "    aws_region: str,\n",
    "    nb_instance_tags: List[str],\n",
    "):\n",
    "    client = boto3.client(\"sagemaker\", region_name=aws_region)\n",
    "    sgm_creation_response = client.create_notebook_instance(\n",
    "        NotebookInstanceName=nb_instance_name,\n",
    "        InstanceType=nb_instance_type,\n",
    "        SubnetId=subnet_id,\n",
    "        SecurityGroupIds=[sg_group_id],    \n",
    "        RoleArn=iam_role_arn,\n",
    "        Tags=nb_instance_tags,\n",
    "        LifecycleConfigName=nb_lifecycle_name,\n",
    "        DirectInternetAccess='Enabled',\n",
    "        VolumeSizeInGB=20,\n",
    "        PlatformIdentifier=\"notebook-al2-v1\",\n",
    "        RootAccess='Enabled',\n",
    "    )\n",
    "    return sg_nb_creation_response"
   ]
  },
  {
   "cell_type": "code",
   "execution_count": null,
   "id": "9bb40e3e-d047-4ef8-b8b2-f0ef0941d8be",
   "metadata": {},
   "outputs": [],
   "source": [
    "%%time\n",
    "sg_nb_creation_response = create_sagemaker_nb_instance(\n",
    "    nb_instance_name,\n",
    "    nb_instance_type,\n",
    "    sg_group_list[0],\n",
    "    subnet_ids[0]['id'],\n",
    "    role_response[\"Role\"][\"Arn\"],\n",
    "    aws_region,\n",
    "    nb_instance_tags,\n",
    ")"
   ]
  }
 ],
 "metadata": {
  "kernelspec": {
   "display_name": "Python 3 (ipykernel)",
   "language": "python",
   "name": "python3"
  },
  "language_info": {
   "codemirror_mode": {
    "name": "ipython",
    "version": 3
   },
   "file_extension": ".py",
   "mimetype": "text/x-python",
   "name": "python",
   "nbconvert_exporter": "python",
   "pygments_lexer": "ipython3",
   "version": "3.9.7"
  }
 },
 "nbformat": 4,
 "nbformat_minor": 5
}
