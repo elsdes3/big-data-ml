{
 "cells": [
  {
   "cell_type": "markdown",
   "id": "3fd4cc00-25ac-4bf7-b7c7-7a70114963a7",
   "metadata": {},
   "source": [
    "# Delete SageMaker Resources"
   ]
  },
  {
   "cell_type": "code",
   "execution_count": null,
   "id": "f1ea0847-7f09-4f4d-a79d-f34d8d79c774",
   "metadata": {},
   "outputs": [],
   "source": [
    "%load_ext lab_black\n",
    "%load_ext autoreload\n",
    "%autoreload 2"
   ]
  },
  {
   "cell_type": "code",
   "execution_count": null,
   "id": "c53c6322-1d94-4366-9934-1dbe41db6c7a",
   "metadata": {},
   "outputs": [],
   "source": [
    "import base64\n",
    "import os\n",
    "from typing import Dict, List\n",
    "\n",
    "import boto3\n",
    "from dotenv import find_dotenv, load_dotenv"
   ]
  },
  {
   "cell_type": "code",
   "execution_count": null,
   "id": "8e1a8fbf-b8fa-4fb0-b7a2-6f5986a40fb7",
   "metadata": {},
   "outputs": [],
   "source": [
    "%aimport src.s3.buckets\n",
    "import src.s3.buckets as s3b\n",
    "\n",
    "%aimport src.iam.iam_roles\n",
    "import src.iam.iam_roles as iamr\n",
    "\n",
    "%aimport src.ec2.ec2_instances_sec_groups\n",
    "import src.ec2.ec2_instances_sec_groups as ec2h"
   ]
  },
  {
   "cell_type": "code",
   "execution_count": null,
   "id": "0011e922-0926-43ce-8566-6d2438059035",
   "metadata": {},
   "outputs": [],
   "source": [
    "load_dotenv(find_dotenv())"
   ]
  },
  {
   "cell_type": "code",
   "execution_count": null,
   "id": "e159d102-0d2b-4066-826d-d6077a411841",
   "metadata": {},
   "outputs": [],
   "source": [
    "aws_region = os.getenv(\"AWS_REGION\")"
   ]
  },
  {
   "cell_type": "markdown",
   "id": "21769651-32fd-432c-b9e2-22eb1c7de4a2",
   "metadata": {},
   "source": [
    "## About"
   ]
  },
  {
   "cell_type": "markdown",
   "id": "1d3c27a8-1463-4bf0-9d14-2c6c52e015f8",
   "metadata": {
    "jp-MarkdownHeadingCollapsed": true,
    "tags": []
   },
   "source": [
    "In this notebook, the following resources related to AWS SageMaker will be destroyed\n",
    "- SageMaker notebook instance\n",
    "- SageMaker notebook lifecycle configuration\n",
    "- CloudWatch Logging group for the SageMaker instance\n",
    "- EC2 Security group for the SageMaker instance\n",
    "- S3 bucket\n",
    "\n",
    "### Pre-Requisites\n",
    "1. As mentioned in `README.md`, the following environment variables should be set with the user's AWS credendials ([1](https://docs.aws.amazon.com/sdk-for-php/v3/developer-guide/guide_credentials_environment.html), [2](https://docs.aws.amazon.com/sdk-for-php/v3/developer-guide/guide_credentials_profiles.html))\n",
    "   - `AWS_ACCESS_KEY_ID`\n",
    "   - `AWS_SECRET_KEY`\n",
    "   - `AWS_REGION`\n",
    "\n",
    "   These credentials must be associated to a user group whose users have been granted programmatic access to AWS resources. In order to configure this for an IAM user group, see the documentation [here](https://docs.aws.amazon.com/IAM/latest/UserGuide/id_users_create.html#id_users_create_console).\n",
    "\n",
    "### Notes\n",
    "1. All resources must exist in the same AWS region (specified by the environment variable `AWS_REGION`)."
   ]
  },
  {
   "cell_type": "markdown",
   "id": "38155e39-7177-415a-8f4b-42b7d6b57f85",
   "metadata": {},
   "source": [
    "## User Inputs"
   ]
  },
  {
   "cell_type": "code",
   "execution_count": null,
   "id": "31c8b84f-5b35-4c49-b6c5-135556a35b8c",
   "metadata": {},
   "outputs": [],
   "source": [
    "# S3\n",
    "s3_bucket_name = \"sagemakerdemoedesz4321\"\n",
    "\n",
    "# IAM Role\n",
    "iam_role_name = \"AmazonSageMaker-ExecutionRole-20211222T235985\"\n",
    "\n",
    "# EC2 Security Groups\n",
    "sg_group_name = \"mysgname\"\n",
    "\n",
    "# Sagemaker Lifecycle\n",
    "nb_lifecycle_name = \"mynbconfig\"\n",
    "nb_instance_name = \"mydemo\"\n",
    "nb_instance_tags = [{\"Key\": \"Name\", \"Value\": nb_instance_name}]\n",
    "\n",
    "# Cloud Watch\n",
    "cw_log_group_name = \"/aws/sagemaker/NotebookInstances\""
   ]
  },
  {
   "cell_type": "markdown",
   "id": "edc962af-b73c-4cbb-8236-4ae52eccfe48",
   "metadata": {},
   "source": [
    "## SageMaker"
   ]
  },
  {
   "cell_type": "markdown",
   "id": "433e37dc-a7b9-45fc-ace1-cb18e1a69444",
   "metadata": {},
   "source": [
    "### Stop Notebook Instance"
   ]
  },
  {
   "cell_type": "code",
   "execution_count": null,
   "id": "c0cf461a-b6ac-47d2-8b73-3dbe0265f5d0",
   "metadata": {
    "tags": []
   },
   "outputs": [],
   "source": [
    "def stop_sagemaker_nb_instance(nb_instance_name: str, aws_region: str) -> None:\n",
    "    client = boto3.client(\"sagemaker\", region_name=aws_region)\n",
    "    stop_nb_response = client.stop_notebook_instance(NotebookInstanceName=nb_instance_name)\n",
    "    return stop_nb_response"
   ]
  },
  {
   "cell_type": "code",
   "execution_count": null,
   "id": "344e51d7-4695-4393-8445-4270519c3a16",
   "metadata": {},
   "outputs": [],
   "source": [
    "%%time\n",
    "stop_nb_response = stop_sagemaker_nb_instance(nb_instance_name, aws_region)\n",
    "stop_nb_response"
   ]
  },
  {
   "cell_type": "markdown",
   "id": "73d8d66a-e2f5-4543-b1c2-8b2fea8235bb",
   "metadata": {},
   "source": [
    "### Delete Notebook Instance"
   ]
  },
  {
   "cell_type": "code",
   "execution_count": null,
   "id": "e61946e3-beb0-4f53-9887-37c315a23006",
   "metadata": {},
   "outputs": [],
   "source": [
    "def delete_sagemaker_nb_instance(nb_instance_name: str, aws_region: str):\n",
    "    client = boto3.client(\"sagemaker\", region_name=aws_region)\n",
    "    response_nb_list = client.list_notebook_instances(NameContains=nb_instance_name)\n",
    "    nb_dict = response_nb_list[\"NotebookInstances\"][0]\n",
    "    nb_state = nb_dict[\"NotebookInstanceStatus\"]\n",
    "    if nb_state not in [\"Stopped\"]:\n",
    "        print(f\"Sagemaker Instance in state {nb_state}. Could not be deleted. Did nothing.\")\n",
    "    else:\n",
    "        nb_delete_response = client.delete_notebook_instance(\n",
    "            NotebookInstanceName=nb_instance_name\n",
    "        )\n",
    "        print(\"Sagemaker Instance Deleted.\")"
   ]
  },
  {
   "cell_type": "code",
   "execution_count": null,
   "id": "c8483b62-7898-459c-a928-22fac8cc094e",
   "metadata": {},
   "outputs": [],
   "source": [
    "%%time\n",
    "delete_sagemaker_nb_instance(nb_instance_name, aws_region)"
   ]
  },
  {
   "cell_type": "markdown",
   "id": "e1c4ea06-0603-4b37-bfc8-f653f52f187c",
   "metadata": {},
   "source": [
    "### Delete Lifecycle Config"
   ]
  },
  {
   "cell_type": "code",
   "execution_count": null,
   "id": "d385be54-9621-4341-9e64-442a06cc1e1c",
   "metadata": {},
   "outputs": [],
   "source": [
    "def delete_sagemaker_nb_instance_lifecycle_config(nb_lifecycle_name: str, aws_region: str) -> None:\n",
    "    client = boto3.client(\"sagemaker\", region_name=aws_region)\n",
    "    nb_lifecycle_list = client.list_notebook_instance_lifecycle_configs(\n",
    "        NameContains=nb_lifecycle_name\n",
    "    )\n",
    "    if nb_lifecycle_list[\"NotebookInstanceLifecycleConfigs\"]:\n",
    "        nb_lifecycle_config_name = nb_lifecycle_list[\"NotebookInstanceLifecycleConfigName\"]\n",
    "        nb_config_delete_response = client.delete_notebook_instance_lifecycle_config(\n",
    "            NotebookInstanceLifecycleConfigName=nb_lifecycle_name\n",
    "        )\n",
    "        print(f\"Deleted lifecycle config: {nb_lifecycle_config_name}\")\n",
    "    else:\n",
    "        print(\"Did not find any lifecycle configurations. Did nothing.\")"
   ]
  },
  {
   "cell_type": "code",
   "execution_count": null,
   "id": "180cddf4-b3a8-43ec-b245-e9bf8c84c246",
   "metadata": {},
   "outputs": [],
   "source": [
    "%%time\n",
    "delete_sagemaker_nb_instance_lifecycle_config(nb_lifecycle_name, aws_region)"
   ]
  },
  {
   "cell_type": "markdown",
   "id": "7f3c0936-31a3-44f8-89c1-89fd4e024327",
   "metadata": {},
   "source": [
    "### Delete the CloudWatch Logging Group for SageMaker Instance"
   ]
  },
  {
   "cell_type": "code",
   "execution_count": null,
   "id": "24a5fd65-ddc8-4d57-8c5c-bfbe0c93afb7",
   "metadata": {},
   "outputs": [],
   "source": [
    "def delete_cw_log_group_stream(cw_log_group_name: str, aws_region: str) -> Dict:\n",
    "    \"\"\"Delete CloudWatch Logging Group.\"\"\"\n",
    "    cw_logs_client = boto3.client(\"logs\", region_name=aws_region)\n",
    "    cw_log_deletion_response = cw_logs_client.delete_log_group(\n",
    "        logGroupName=cw_log_group_name\n",
    "    )"
   ]
  },
  {
   "cell_type": "code",
   "execution_count": null,
   "id": "6f45f6f1-a0f4-4818-935d-04e9410b8da6",
   "metadata": {},
   "outputs": [],
   "source": [
    "%%time\n",
    "delete_cw_log_group_stream(cw_log_group_name, aws_region)"
   ]
  },
  {
   "cell_type": "markdown",
   "id": "c438dd16-1dfc-4f91-a3f0-3ca32c07f2bf",
   "metadata": {},
   "source": [
    "### Delete EC2 Security Group for the SageMaker Instance"
   ]
  },
  {
   "cell_type": "code",
   "execution_count": null,
   "id": "75581322-0b83-40cf-9ccd-6bfc40af637d",
   "metadata": {},
   "outputs": [],
   "source": [
    "def delete_sagemaker_nb_instance_security_group(\n",
    "    nb_instance_name: str, aws_region: str, sg_group_id: str\n",
    ") -> None:\n",
    "    client = boto3.client(\"sagemaker\", region_name=aws_region)\n",
    "    response_nb_list = client.list_notebook_instances(NameContains=nb_instance_name)\n",
    "    if not response_nb_list[\"NotebookInstanceLifecycleConfigs\"]:\n",
    "        print(\n",
    "            \"Found Notebook instance that depends on \"\n",
    "            f\"Security Group: {sg_group_id}. Did nothing.\"\n",
    "        )\n",
    "    else:\n",
    "        ec2h.delete_sg(sg_group_id, aws_region)"
   ]
  },
  {
   "cell_type": "code",
   "execution_count": null,
   "id": "6a6201bf-f80a-4227-8764-70fc82831c32",
   "metadata": {},
   "outputs": [],
   "source": [
    "%%time\n",
    "sg_filter = dict(Filters=[{\"Name\": \"tag:Name\", \"Values\": [sg_group_name]}])\n",
    "sg_id_list = get_security_group_ids(aws_region, sg_filter)\n",
    "delete_sagemaker_nb_instance_security_group(nb_instance_name, aws_region, sg_id_list[0])"
   ]
  },
  {
   "cell_type": "markdown",
   "id": "432592a6-9f4a-4099-abea-a0e88dfbeecb",
   "metadata": {},
   "source": [
    "## Delete the S3 Bucket"
   ]
  },
  {
   "cell_type": "code",
   "execution_count": null,
   "id": "31a09ebb-99fa-427b-901a-c3fa58447baa",
   "metadata": {},
   "outputs": [],
   "source": [
    "%%time\n",
    "s3b.delete_s3_bucket(s3_bucket_name, aws_region)"
   ]
  }
 ],
 "metadata": {
  "kernelspec": {
   "display_name": "Python 3 (ipykernel)",
   "language": "python",
   "name": "python3"
  },
  "language_info": {
   "codemirror_mode": {
    "name": "ipython",
    "version": 3
   },
   "file_extension": ".py",
   "mimetype": "text/x-python",
   "name": "python",
   "nbconvert_exporter": "python",
   "pygments_lexer": "ipython3",
   "version": "3.9.5"
  }
 },
 "nbformat": 4,
 "nbformat_minor": 5
}
